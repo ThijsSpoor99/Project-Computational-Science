{
 "cells": [
  {
   "cell_type": "code",
   "execution_count": 52,
   "metadata": {},
   "outputs": [],
   "source": [
    "import numpy as np\n",
    "import pandas as pd\n",
    "from itertools import product\n",
    "import matplotlib.pyplot as plt\n",
    "import pyorb\n",
    "\n",
    "%matplotlib inline"
   ]
  },
  {
   "cell_type": "markdown",
   "metadata": {},
   "source": [
    "#### 1. Read in Dataset and filter asteroids\n",
    "> Filter asteroids which have a perihelia between 17 and 30, to adhere with paper"
   ]
  },
  {
   "cell_type": "code",
   "execution_count": 53,
   "metadata": {},
   "outputs": [
    {
     "data": {
      "text/plain": [
       "<bound method NDFrame.head of     cloneOf          a         e          i           w          om  \\\n",
       "0         0  24.966699  0.244817   4.140735    5.497095  178.271004   \n",
       "1         1  20.070776  0.132211   9.344995  154.679881  126.864296   \n",
       "2         2  25.967409  0.237472   4.357911  266.777400   14.667089   \n",
       "3         3  23.013043  0.217501  15.042869  155.559670  107.294178   \n",
       "4         4  24.661483  0.042406  12.256986  178.410872  162.500755   \n",
       "..      ...        ...       ...        ...         ...         ...   \n",
       "60       60  25.091623  0.300902   4.291437   65.060013   79.342736   \n",
       "61       61  28.969840  0.249141  29.544723  177.094133  165.672720   \n",
       "62       62  23.634748  0.276392  27.022045   76.313856  276.811952   \n",
       "63       63  28.070077  0.279005  21.119211  357.826375   96.546356   \n",
       "64       64  18.020758  0.008990  11.909417  302.218609  308.419647   \n",
       "\n",
       "            ma  \n",
       "0    85.485989  \n",
       "1   127.767199  \n",
       "2    19.801745  \n",
       "3    16.797701  \n",
       "4    90.602241  \n",
       "..         ...  \n",
       "60   21.563207  \n",
       "61  174.509762  \n",
       "62  110.300982  \n",
       "63   33.783609  \n",
       "64  104.285325  \n",
       "\n",
       "[65 rows x 7 columns]>"
      ]
     },
     "execution_count": 53,
     "metadata": {},
     "output_type": "execute_result"
    }
   ],
   "source": [
    "Centaurs = pd.read_csv(\"Data/Centaurs.csv\")\n",
    "\n",
    "#filter q on between 17 - 30 AU \n",
    "Centaurs = Centaurs[ (Centaurs['q'] < 30) & (Centaurs['q'] > 17)].reset_index(drop=True)\n",
    "\n",
    "#drop q column, not necessary anymore, and set an ID for the objects\n",
    "Centaurs.drop('q', axis=1, inplace=True)\n",
    "Centaurs.reset_index(names='cloneOf', inplace=True)\n",
    "Centaurs.head"
   ]
  },
  {
   "cell_type": "code",
   "execution_count": 54,
   "metadata": {},
   "outputs": [
    {
     "data": {
      "text/plain": [
       "<bound method NDFrame.head of     cloneOf          a         e          i           w          om  \\\n",
       "0         0  24.966699  0.244817   4.140735    5.497095  178.271004   \n",
       "1         1  20.070776  0.132211   9.344995  154.679881  126.864296   \n",
       "2         2  25.967409  0.237472   4.357911  266.777400   14.667089   \n",
       "3         3  23.013043  0.217501  15.042869  155.559670  107.294178   \n",
       "4         4  24.661483  0.042406  12.256986  178.410872  162.500755   \n",
       "..      ...        ...       ...        ...         ...         ...   \n",
       "60       60  25.091623  0.300902   4.291437   65.060013   79.342736   \n",
       "61       61  28.969840  0.249141  29.544723  177.094133  165.672720   \n",
       "62       62  23.634748  0.276392  27.022045   76.313856  276.811952   \n",
       "63       63  28.070077  0.279005  21.119211  357.826375   96.546356   \n",
       "64       64  18.020758  0.008990  11.909417  302.218609  308.419647   \n",
       "\n",
       "            ta  \n",
       "0    99.569001  \n",
       "1   133.378003  \n",
       "2    25.805956  \n",
       "3    21.409969  \n",
       "4    93.070878  \n",
       "..         ...  \n",
       "60   30.399856  \n",
       "61  175.622986  \n",
       "62  123.735760  \n",
       "63   45.306710  \n",
       "64  104.792082  \n",
       "\n",
       "[65 rows x 7 columns]>"
      ]
     },
     "execution_count": 54,
     "metadata": {},
     "output_type": "execute_result"
    }
   ],
   "source": [
    "#Convert the mean anomaly to true anomaly\n",
    "Centaurs['E'] = pyorb.kepler.mean_to_eccentric(np.array(Centaurs['ma']), np.array(Centaurs['e']), degrees=True)\n",
    "Centaurs['ta'] = np.degrees(2 * np.arctan(np.sqrt((1 + np.radians(Centaurs['e']))/(1 - np.radians(Centaurs['e']))) * np.tan(np.radians(Centaurs['E'] / 2))))\n",
    "Centaurs.drop(['E', 'ma'], axis=1, inplace=True)\n",
    "Centaurs.head"
   ]
  },
  {
   "cell_type": "markdown",
   "metadata": {},
   "source": [
    "#### 2. Create grid for cloning Centaur objects\n",
    "> A 7x7x7x3 grid will be used (same as paper) to clone the objects in $\\alpha, e, i, w$. The seperations of this grid are as follows:\n",
    "> - 0.1 AU in semi-major axis (a)\n",
    "> - 0.05 in eccentricity (e)\n",
    "> - 0.5 degrees in inclination (i)\n",
    "> - 5 degrees in argument of perihelion (w)"
   ]
  },
  {
   "cell_type": "code",
   "execution_count": 55,
   "metadata": {},
   "outputs": [
    {
     "data": {
      "text/plain": [
       "array([[-0.3 , -0.15, -1.5 , -5.  ],\n",
       "       [-0.3 , -0.15, -1.5 ,  0.  ],\n",
       "       [-0.3 , -0.15, -1.5 ,  5.  ],\n",
       "       ...,\n",
       "       [ 0.3 ,  0.15,  1.5 , -5.  ],\n",
       "       [ 0.3 ,  0.15,  1.5 ,  0.  ],\n",
       "       [ 0.3 ,  0.15,  1.5 ,  5.  ]], shape=(1028, 4))"
      ]
     },
     "execution_count": 55,
     "metadata": {},
     "output_type": "execute_result"
    }
   ],
   "source": [
    "a_increment = [-0.3, -0.2, -0.1, 0, 0.1, 0.2, 0.3]  # 7 steps for semi-major axis\n",
    "e_increment = [-0.15, -0.1, -0.05, 0, 0.05, 0.1, 0.15]  # 7 steps for eccentricity\n",
    "i_increment = [-1.5, -1.0, -0.5, 0, 0.5, 1.0, 1.5]  # 7 steps for inclination\n",
    "w_increment = [-5, 0, 5]  # 3 steps for argument of perihelion\n",
    "\n",
    "grid_array = np.array(list(product(a_increment, e_increment, i_increment, w_increment)))\n",
    "\n",
    "# remove the original object (where all are 0)\n",
    "grid_array = grid_array[~np.all(grid_array == 0, axis=1)]\n",
    "grid_array"
   ]
  },
  {
   "cell_type": "code",
   "execution_count": 56,
   "metadata": {},
   "outputs": [
    {
     "data": {
      "text/plain": [
       "array([[ 1.0e+03, -3.0e-01, -1.5e-01, ..., -5.0e+00,  0.0e+00,  0.0e+00],\n",
       "       [ 1.0e+03, -3.0e-01, -1.5e-01, ...,  0.0e+00,  0.0e+00,  0.0e+00],\n",
       "       [ 1.0e+03, -3.0e-01, -1.5e-01, ...,  5.0e+00,  0.0e+00,  0.0e+00],\n",
       "       ...,\n",
       "       [ 1.0e+03,  3.0e-01,  1.5e-01, ..., -5.0e+00,  0.0e+00,  0.0e+00],\n",
       "       [ 1.0e+03,  3.0e-01,  1.5e-01, ...,  0.0e+00,  0.0e+00,  0.0e+00],\n",
       "       [ 1.0e+03,  3.0e-01,  1.5e-01, ...,  5.0e+00,  0.0e+00,  0.0e+00]],\n",
       "      shape=(1028, 7))"
      ]
     },
     "execution_count": 56,
     "metadata": {},
     "output_type": "execute_result"
    }
   ],
   "source": [
    "#add other two columns to easily clone the real Centaurs using matrix transofmations\n",
    "grid_array_padded = np.concatenate([np.full((grid_array.shape[0], 1), 1000), grid_array, np.zeros((grid_array.shape[0], 2))], axis=1)\n",
    "grid_array_padded"
   ]
  },
  {
   "cell_type": "code",
   "execution_count": 57,
   "metadata": {},
   "outputs": [
    {
     "data": {
      "text/plain": [
       "array([[ 1.00400000e+03,  2.43614833e+01, -1.07594011e-01, ...,\n",
       "         1.73410872e+02,  1.62500755e+02,  9.30708779e+01],\n",
       "       [ 1.00400000e+03,  2.43614833e+01, -1.07594011e-01, ...,\n",
       "         1.78410872e+02,  1.62500755e+02,  9.30708779e+01],\n",
       "       [ 1.00400000e+03,  2.43614833e+01, -1.07594011e-01, ...,\n",
       "         1.83410872e+02,  1.62500755e+02,  9.30708779e+01],\n",
       "       ...,\n",
       "       [ 1.00400000e+03,  2.49614833e+01,  1.92405989e-01, ...,\n",
       "         1.73410872e+02,  1.62500755e+02,  9.30708779e+01],\n",
       "       [ 1.00400000e+03,  2.49614833e+01,  1.92405989e-01, ...,\n",
       "         1.78410872e+02,  1.62500755e+02,  9.30708779e+01],\n",
       "       [ 1.00400000e+03,  2.49614833e+01,  1.92405989e-01, ...,\n",
       "         1.83410872e+02,  1.62500755e+02,  9.30708779e+01]],\n",
       "      shape=(1028, 7))"
      ]
     },
     "execution_count": 57,
     "metadata": {},
     "output_type": "execute_result"
    }
   ],
   "source": [
    "#testing if cloning works for individual Centaurs\n",
    "grid_array_padded + Centaurs.iloc[4].values "
   ]
  },
  {
   "cell_type": "code",
   "execution_count": 58,
   "metadata": {},
   "outputs": [
    {
     "data": {
      "text/plain": [
       "<bound method NDFrame.head of        cloneOf          a         e          i           w          om  \\\n",
       "0          0.0  24.966699  0.244817   4.140735    5.497095  178.271004   \n",
       "1          1.0  20.070776  0.132211   9.344995  154.679881  126.864296   \n",
       "2          2.0  25.967409  0.237472   4.357911  266.777400   14.667089   \n",
       "3          3.0  23.013043  0.217501  15.042869  155.559670  107.294178   \n",
       "4          4.0  24.661483  0.042406  12.256986  178.410872  162.500755   \n",
       "...        ...        ...       ...        ...         ...         ...   \n",
       "66880   1064.0  18.320758  0.158990  12.909417  302.218609  308.419647   \n",
       "66881   1064.0  18.320758  0.158990  12.909417  307.218609  308.419647   \n",
       "66882   1064.0  18.320758  0.158990  13.409417  297.218609  308.419647   \n",
       "66883   1064.0  18.320758  0.158990  13.409417  302.218609  308.419647   \n",
       "66884   1064.0  18.320758  0.158990  13.409417  307.218609  308.419647   \n",
       "\n",
       "               ta  \n",
       "0       99.569001  \n",
       "1      133.378003  \n",
       "2       25.805956  \n",
       "3       21.409969  \n",
       "4       93.070878  \n",
       "...           ...  \n",
       "66880  104.792082  \n",
       "66881  104.792082  \n",
       "66882  104.792082  \n",
       "66883  104.792082  \n",
       "66884  104.792082  \n",
       "\n",
       "[66885 rows x 7 columns]>"
      ]
     },
     "execution_count": 58,
     "metadata": {},
     "output_type": "execute_result"
    }
   ],
   "source": [
    "#creating dataframe with the original and clones of Centaur objects\n",
    "#clones can be denoted by the cloneOf column, where a clone is 1000 above\n",
    "#the original object.\n",
    "new_asteroids = Centaurs.values\n",
    "for row in Centaurs.values:\n",
    "    new_asteroids =  np.concatenate([new_asteroids, (grid_array_padded + row)], axis=0)\n",
    "\n",
    "new_asteroids.shape\n",
    "cloned_centaurs = pd.DataFrame(new_asteroids, columns=['cloneOf', 'a', 'e', 'i', 'w', 'om', 'ta'])\n",
    "cloned_centaurs.head"
   ]
  },
  {
   "cell_type": "code",
   "execution_count": 59,
   "metadata": {},
   "outputs": [],
   "source": [
    "def kep_to_cart(DF):\n",
    "    \"\"\"Function that will convert the kepler orbital elements into x,y,z,Vx,Vy,Vz values for the Centaur objects\n",
    "    The units expected are AU, days and degrees. It also asumes that the object will be orbiting the sun, hence the\n",
    "    gravitiational parameter 2.959122082855911. The output will be stored in Data/CentaursCartesian.csv\"\"\"\n",
    "    Centaurs_cartesian = []\n",
    "    for i in range(DF.shape[0]):\n",
    "        cartesian = pyorb.kep_to_cart(DF.iloc[i].values[1:], mu=9.90693e20, degrees=True)\n",
    "        Centaurs_cartesian.append(np.append(cartesian, DF.iloc[i].values[0]))\n",
    "    \n",
    "    Centaurs_cartesian = pd.DataFrame(Centaurs_cartesian, columns=['x','y','z','Vx','Vy','Vz','cloneOf'])\n",
    "    Centaurs_cartesian[['x','y','z','Vx','Vy','Vz']] =  Centaurs_cartesian[['x','y','z','Vx','Vy','Vz']] * 149597871  #convert AU to km\n",
    "    Centaurs_cartesian[['cloneOf']]=  Centaurs_cartesian[['cloneOf']].apply(lambda x: x.astype(int)) #convert cloneOf to int\n",
    "    Centaurs_cartesian.to_csv(\"Data/centaurData.csv\")\n",
    "\n",
    "#Uncomment this to generate the dataset\n",
    "kep_to_cart(cloned_centaurs)"
   ]
  }
 ],
 "metadata": {
  "kernelspec": {
   "display_name": "PCS",
   "language": "python",
   "name": "python3"
  },
  "language_info": {
   "codemirror_mode": {
    "name": "ipython",
    "version": 3
   },
   "file_extension": ".py",
   "mimetype": "text/x-python",
   "name": "python",
   "nbconvert_exporter": "python",
   "pygments_lexer": "ipython3",
   "version": "3.12.8"
  }
 },
 "nbformat": 4,
 "nbformat_minor": 2
}
